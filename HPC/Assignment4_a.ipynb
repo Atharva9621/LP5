{
  "nbformat": 4,
  "nbformat_minor": 0,
  "metadata": {
    "colab": {
      "provenance": [],
      "gpuType": "T4"
    },
    "kernelspec": {
      "name": "python3",
      "display_name": "Python 3"
    },
    "language_info": {
      "name": "python"
    },
    "accelerator": "GPU"
  },
  "cells": [
    {
      "cell_type": "markdown",
      "source": [
        "# CUDA Kernels\n",
        "\n",
        "We will use CuPy to execute CudaC Kernel to `add vectors` from the Python runtime"
      ],
      "metadata": {
        "id": "NIOyAnMAfrhM"
      }
    },
    {
      "cell_type": "code",
      "source": [
        "#enable T4 gpu in Runtime > Change Runtime Type\n",
        "!nvidia-smi"
      ],
      "metadata": {
        "colab": {
          "base_uri": "https://localhost:8080/"
        },
        "id": "qG_5VenBf1Np",
        "outputId": "b9d468a4-1770-4a1b-f646-6da9e00437c7"
      },
      "execution_count": 1,
      "outputs": [
        {
          "output_type": "stream",
          "name": "stdout",
          "text": [
            "Thu Apr 17 02:06:32 2025       \n",
            "+-----------------------------------------------------------------------------------------+\n",
            "| NVIDIA-SMI 550.54.15              Driver Version: 550.54.15      CUDA Version: 12.4     |\n",
            "|-----------------------------------------+------------------------+----------------------+\n",
            "| GPU  Name                 Persistence-M | Bus-Id          Disp.A | Volatile Uncorr. ECC |\n",
            "| Fan  Temp   Perf          Pwr:Usage/Cap |           Memory-Usage | GPU-Util  Compute M. |\n",
            "|                                         |                        |               MIG M. |\n",
            "|=========================================+========================+======================|\n",
            "|   0  Tesla T4                       Off |   00000000:00:04.0 Off |                    0 |\n",
            "| N/A   44C    P8             12W /   70W |       0MiB /  15360MiB |      0%      Default |\n",
            "|                                         |                        |                  N/A |\n",
            "+-----------------------------------------+------------------------+----------------------+\n",
            "                                                                                         \n",
            "+-----------------------------------------------------------------------------------------+\n",
            "| Processes:                                                                              |\n",
            "|  GPU   GI   CI        PID   Type   Process name                              GPU Memory |\n",
            "|        ID   ID                                                               Usage      |\n",
            "|=========================================================================================|\n",
            "|  No running processes found                                                             |\n",
            "+-----------------------------------------------------------------------------------------+\n"
          ]
        }
      ]
    },
    {
      "cell_type": "markdown",
      "source": [
        "# CUDA Kernel"
      ],
      "metadata": {
        "id": "k_4Up6Yyf3OO"
      }
    },
    {
      "cell_type": "code",
      "source": [
        "kernel_code = r'''\n",
        "extern \"C\" __global__\n",
        "void vector_add(const float* x, const float* y, float* out, int N) {\n",
        "    int i = blockIdx.x * blockDim.x + threadIdx.x;\n",
        "    if (i < N) {\n",
        "        out[i] = x[i] + y[i];\n",
        "    }\n",
        "}\n",
        "'''"
      ],
      "metadata": {
        "id": "f8RdOyT9f6B-"
      },
      "execution_count": 2,
      "outputs": []
    },
    {
      "cell_type": "markdown",
      "source": [
        "# Main"
      ],
      "metadata": {
        "id": "vNHysp01f85X"
      }
    },
    {
      "cell_type": "code",
      "source": [
        "import cupy as cp\n",
        "\n",
        "module = cp.RawModule(code=kernel_code)\n",
        "vector_add_kernel = module.get_function('vector_add')"
      ],
      "metadata": {
        "id": "X3IjQlKkf9-_"
      },
      "execution_count": 3,
      "outputs": []
    },
    {
      "cell_type": "code",
      "source": [
        "N = 1024 * 10\n",
        "x = cp.random.rand(N, dtype=cp.float32)\n",
        "y = cp.random.rand(N, dtype=cp.float32)\n",
        "out = cp.empty_like(x)"
      ],
      "metadata": {
        "id": "E0g9mgPGgCce"
      },
      "execution_count": 4,
      "outputs": []
    },
    {
      "cell_type": "code",
      "source": [
        "threads_per_block = 256\n",
        "blocks_per_grid = (N + threads_per_block - 1) // threads_per_block"
      ],
      "metadata": {
        "id": "dmH_ejJWgGUP"
      },
      "execution_count": 5,
      "outputs": []
    },
    {
      "cell_type": "code",
      "source": [
        "vector_add_kernel((blocks_per_grid,), (threads_per_block,), (x, y, out, N))"
      ],
      "metadata": {
        "id": "8P5WWrACgH5m"
      },
      "execution_count": 6,
      "outputs": []
    },
    {
      "cell_type": "code",
      "source": [
        "print(x)\n",
        "print(y)\n",
        "print(out)"
      ],
      "metadata": {
        "colab": {
          "base_uri": "https://localhost:8080/"
        },
        "id": "uBAfTpF3gI42",
        "outputId": "95f9f98b-ee38-48b4-deba-732721a15f31"
      },
      "execution_count": 8,
      "outputs": [
        {
          "output_type": "stream",
          "name": "stdout",
          "text": [
            "[0.8099163  0.05843949 0.76927894 ... 0.4224384  0.34039268 0.16255459]\n",
            "[0.8101021  0.15584847 0.60862285 ... 0.4157467  0.96168965 0.00377935]\n",
            "[1.6200185  0.21428797 1.3779018  ... 0.8381851  1.3020823  0.16633394]\n"
          ]
        }
      ]
    },
    {
      "cell_type": "code",
      "source": [],
      "metadata": {
        "id": "THmiZlw-gLEG"
      },
      "execution_count": null,
      "outputs": []
    }
  ]
}