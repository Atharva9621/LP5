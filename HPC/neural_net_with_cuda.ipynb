{
  "nbformat": 4,
  "nbformat_minor": 0,
  "metadata": {
    "colab": {
      "provenance": [],
      "toc_visible": true
    },
    "kernelspec": {
      "name": "python3",
      "display_name": "Python 3"
    },
    "language_info": {
      "name": "python"
    }
  },
  "cells": [
    {
      "cell_type": "code",
      "execution_count": 1,
      "metadata": {
        "id": "ugueuqoTJeb1",
        "colab": {
          "base_uri": "https://localhost:8080/"
        },
        "outputId": "71bc6d8c-a111-4a64-ae3a-caed1df252fb"
      },
      "outputs": [
        {
          "output_type": "execute_result",
          "data": {
            "text/plain": [
              "((30, 455), (1, 455), (30, 114), (1, 114))"
            ]
          },
          "metadata": {},
          "execution_count": 1
        }
      ],
      "source": [
        "import matplotlib.pyplot as plt\n",
        "import numpy as cp\n",
        "from sklearn.model_selection import train_test_split\n",
        "from sklearn.preprocessing import StandardScaler\n",
        "from sklearn.datasets import load_breast_cancer\n",
        "\n",
        "X, y = load_breast_cancer(return_X_y=True)\n",
        "X = StandardScaler().fit_transform(X)\n",
        "X_train, X_test, y_train, y_test = train_test_split(X, y, test_size=0.2)\n",
        "\n",
        "X_train = cp.asarray(X_train.T)\n",
        "y_train = cp.asarray(y_train.reshape(1, -1))\n",
        "\n",
        "X_test = cp.asarray(X_test.T)\n",
        "y_test = cp.asarray(y_test.reshape(1, -1))\n",
        "X_train.shape, y_train.shape, X_test.shape, y_test.shape"
      ]
    },
    {
      "cell_type": "markdown",
      "source": [
        "# 1. MLP in Numpy ( no CUDA )"
      ],
      "metadata": {
        "id": "KRjhG0o0YGGk"
      }
    },
    {
      "cell_type": "code",
      "source": [
        "class MLP:\n",
        "\n",
        "  #==============> MLPBLOCK <====================\n",
        "  class MLPBlock:\n",
        "    def __init__(self,\n",
        "                 input_dims:int,\n",
        "                 output_dims:int,\n",
        "                 final: bool,\n",
        "                 lr:float = 0.01\n",
        "                 ) -> None:\n",
        "      self.w = cp.random.rand(output_dims, input_dims)\n",
        "      self.b = cp.random.rand(output_dims, 1)\n",
        "      self.final = final\n",
        "      self.cache = None\n",
        "      self.lr = lr\n",
        "\n",
        "    def forward(self, x):\n",
        "      \"\"\"\n",
        "      inputs:\n",
        "        x: (input_dims, m)\n",
        "      outputs:\n",
        "        a: (output_dims, m)\n",
        "      \"\"\"\n",
        "      z = cp.dot(self.w, x) + self.b\n",
        "      if not self.final:\n",
        "        a = self.tanh(z)\n",
        "      else:\n",
        "        a = self.sigmoid(z)\n",
        "      self.__update_cache(x, z, a)\n",
        "      return a\n",
        "\n",
        "    def backward(self, da):\n",
        "      \"\"\"\n",
        "      inputs:\n",
        "        da: (output_dims, m)\n",
        "      outputs:\n",
        "        dz: (input_dims, m)\n",
        "        dw: (output_dims, input_dims)\n",
        "        db: (output_dims, 1)\n",
        "      \"\"\"\n",
        "      a = self.cache[\"a\"]\n",
        "      z = self.cache[\"z\"]\n",
        "      x = self.cache[\"x\"]\n",
        "\n",
        "      if not self.final:\n",
        "        dz = (1-a**2)*da\n",
        "      else:\n",
        "        #da is y in this case\n",
        "        dz = a - da\n",
        "\n",
        "      dw = cp.dot(dz, x.T)\n",
        "      db = cp.sum(dz, axis=1, keepdims=True)\n",
        "      dx = cp.dot(self.w.T, dz)\n",
        "\n",
        "      self.w -= dw * self.lr\n",
        "      self.b -= db * self.lr\n",
        "      return dx\n",
        "\n",
        "    def tanh(self, x):\n",
        "      return (cp.exp(x) - cp.exp(-x)) / (cp.exp(x) + cp.exp(-x))\n",
        "\n",
        "    def sigmoid(self, x):\n",
        "      return 1 / (1 + cp.exp(-x))\n",
        "\n",
        "    def __update_cache(self, x, z, a):\n",
        "      self.cache = {\n",
        "          \"x\": x,\n",
        "          \"z\": z,\n",
        "          \"a\": a\n",
        "      }\n",
        "\n",
        "  #===========> END of MLPBlock <===================\n",
        "\n",
        "  def __init__(self,\n",
        "               input_dim: int = 3,\n",
        "               ):\n",
        "    self.layers = [\n",
        "      self.MLPBlock(input_dim, 64, False),\n",
        "      self.MLPBlock(64, 8, False),\n",
        "      self.MLPBlock(8, 1, True),\n",
        "    ]\n",
        "\n",
        "  def forward(self, x):\n",
        "    for layer in self.layers:\n",
        "      x = layer.forward(x)\n",
        "    return x\n",
        "\n",
        "  def backward(self, da):\n",
        "    for layer in reversed(self.layers):\n",
        "      da = layer.backward(da)"
      ],
      "metadata": {
        "id": "g1hls66OQXy9"
      },
      "execution_count": 2,
      "outputs": []
    },
    {
      "cell_type": "code",
      "source": [
        "def bce_loss(y, y_hat):\n",
        "  eps = 1e-8\n",
        "  return cp.mean(-(y*cp.log(y_hat+eps) + (1-y)*cp.log(1-y_hat+eps)))"
      ],
      "metadata": {
        "id": "cj6lRGSZKCCr"
      },
      "execution_count": 3,
      "outputs": []
    },
    {
      "cell_type": "code",
      "source": [
        "epochs = 20\n",
        "model = MLP(30)"
      ],
      "metadata": {
        "id": "F7lS8_meKJ7A"
      },
      "execution_count": 8,
      "outputs": []
    },
    {
      "cell_type": "code",
      "source": [
        "yhat = model.forward(X_train)\n",
        "print(y_train.shape, yhat.shape)\n",
        "print(\"BCE: \", bce_loss(y_train, yhat))"
      ],
      "metadata": {
        "colab": {
          "base_uri": "https://localhost:8080/"
        },
        "id": "ptU8vtdvKS9A",
        "outputId": "52009a4b-eb6a-45c8-8f62-255e53a983e7"
      },
      "execution_count": null,
      "outputs": [
        {
          "output_type": "stream",
          "name": "stdout",
          "text": [
            "(1, 455) (1, 455)\n",
            "BCE:  5.140342481608193\n"
          ]
        }
      ]
    },
    {
      "cell_type": "code",
      "source": [
        "%%time\n",
        "history = {\n",
        "    \"train\": [],\n",
        "    \"val\": []\n",
        "}\n",
        "for epoch in range(epochs):\n",
        "  y_hat = model.forward(X_train)\n",
        "  train_loss = bce_loss(y_train, y_hat)\n",
        "  model.backward(y_train)\n",
        "\n",
        "  val_loss = bce_loss(y_test, model.forward(X_test))\n",
        "  print(f\"Epoch {epoch+1:2d}/{epochs}   train_loss: {train_loss:.5f}   val_loss:{val_loss:.5f}\")\n",
        "  history[\"train\"].append(train_loss)\n",
        "  history[\"val\"].append(val_loss)"
      ],
      "metadata": {
        "colab": {
          "base_uri": "https://localhost:8080/"
        },
        "id": "Gx3AtlbgK5qg",
        "outputId": "0a2a31a7-0761-4514-ce83-c86d5af8eaaf"
      },
      "execution_count": 9,
      "outputs": [
        {
          "output_type": "stream",
          "name": "stdout",
          "text": [
            "Epoch  1/20   train_loss: 3.13294   val_loss:2.53671\n",
            "Epoch  2/20   train_loss: 2.12249   val_loss:2.41886\n",
            "Epoch  3/20   train_loss: 1.75538   val_loss:2.32833\n",
            "Epoch  4/20   train_loss: 1.57990   val_loss:2.06939\n",
            "Epoch  5/20   train_loss: 1.37482   val_loss:1.67695\n",
            "Epoch  6/20   train_loss: 1.09598   val_loss:1.24711\n",
            "Epoch  7/20   train_loss: 0.79827   val_loss:0.82443\n",
            "Epoch  8/20   train_loss: 0.50896   val_loss:0.57493\n",
            "Epoch  9/20   train_loss: 0.38922   val_loss:0.65216\n",
            "Epoch 10/20   train_loss: 0.40512   val_loss:0.52737\n",
            "Epoch 11/20   train_loss: 0.38808   val_loss:0.72417\n",
            "Epoch 12/20   train_loss: 0.45946   val_loss:0.46699\n",
            "Epoch 13/20   train_loss: 0.33247   val_loss:0.54127\n",
            "Epoch 14/20   train_loss: 0.34823   val_loss:0.43851\n",
            "Epoch 15/20   train_loss: 0.34633   val_loss:0.67411\n",
            "Epoch 16/20   train_loss: 0.44002   val_loss:0.40392\n",
            "Epoch 17/20   train_loss: 0.29989   val_loss:0.47262\n",
            "Epoch 18/20   train_loss: 0.31624   val_loss:0.40439\n",
            "Epoch 19/20   train_loss: 0.33273   val_loss:0.67934\n",
            "Epoch 20/20   train_loss: 0.44971   val_loss:0.39062\n",
            "CPU times: user 490 ms, sys: 2.32 ms, total: 492 ms\n",
            "Wall time: 446 ms\n"
          ]
        }
      ]
    },
    {
      "cell_type": "code",
      "source": [
        "plt.plot(history[\"train\"], label=\"train\")\n",
        "plt.plot(history[\"val\"], label=\"val\")\n",
        "plt.legend()\n",
        "plt.show()"
      ],
      "metadata": {
        "colab": {
          "base_uri": "https://localhost:8080/",
          "height": 434
        },
        "id": "t9xMpEeG4biP",
        "outputId": "c133278b-ab4e-4a6f-9bc9-68f73c853c85"
      },
      "execution_count": 7,
      "outputs": [
        {
          "output_type": "display_data",
          "data": {
            "text/plain": [
              "<Figure size 640x480 with 1 Axes>"
            ],
            "image/png": "[encoded data removed]"
          },
          "metadata": {}
        }
      ]
    },
    {
      "cell_type": "markdown",
      "source": [
        "# 2. MLP in CuPy with CUDA"
      ],
      "metadata": {
        "id": "C9sVBXSqId3S"
      }
    },
    {
      "cell_type": "code",
      "source": [
        "import cupy as cp\n",
        "import numpy as np\n",
        "\n",
        "x = np.random.rand(1000000, 5)\n",
        "y = cp.array(x)"
      ],
      "metadata": {
        "id": "7J9qVET9ZoZc"
      },
      "execution_count": 1,
      "outputs": []
    },
    {
      "cell_type": "markdown",
      "source": [
        "### 1) tanh\n",
        "\n"
      ],
      "metadata": {
        "id": "1gNzbjsPYO6t"
      }
    },
    {
      "cell_type": "code",
      "source": [
        "tanh_kernel = cp.RawKernel(r'''\n",
        "extern \"C\" __global__\n",
        "void tanh_forward(const float *x, float *out, int n){\n",
        "  int idx = threadIdx.x + blockIdx.x * blockDim.x;\n",
        "  if (idx<n) {\n",
        "    float e_pos = expf(x[idx]);\n",
        "    float e_neg = expf(-x[idx]);\n",
        "    out[idx] = (e_pos - e_neg) / (e_pos + e_neg);\n",
        "  }\n",
        "}\n",
        "''', 'tanh_forward')\n",
        "\n",
        "def tanh_cuda(x):\n",
        "  x = x.astype(cp.float32)\n",
        "  out = cp.empty_like(x)\n",
        "  n = x.size\n",
        "  threads_per_block = 256\n",
        "  blocks = (n + threads_per_block - 1) // threads_per_block\n",
        "  tanh_kernel(\n",
        "      (blocks,),\n",
        "      (threads_per_block,),\n",
        "      (x.ravel(), out.ravel(), n)\n",
        "  )\n",
        "  return cp.reshape(out, x.shape)"
      ],
      "metadata": {
        "id": "PHfVjlPNYYD9"
      },
      "execution_count": 2,
      "outputs": []
    },
    {
      "cell_type": "code",
      "source": [
        "%%time\n",
        "xout = np.tanh(x)"
      ],
      "metadata": {
        "colab": {
          "base_uri": "https://localhost:8080/"
        },
        "id": "zA3bORI5c0oi",
        "outputId": "4e034152-26ff-47b1-da40-5c317d942372"
      },
      "execution_count": 10,
      "outputs": [
        {
          "output_type": "stream",
          "name": "stdout",
          "text": [
            "CPU times: user 255 ms, sys: 13.5 ms, total: 269 ms\n",
            "Wall time: 407 ms\n"
          ]
        }
      ]
    },
    {
      "cell_type": "code",
      "source": [
        "%%time\n",
        "yout = tanh_cuda(y)"
      ],
      "metadata": {
        "colab": {
          "base_uri": "https://localhost:8080/"
        },
        "id": "qQjK-1FCdkgc",
        "outputId": "5766b4f6-cc0a-4735-d4d7-511a38104fcc"
      },
      "execution_count": 11,
      "outputs": [
        {
          "output_type": "stream",
          "name": "stdout",
          "text": [
            "CPU times: user 521 µs, sys: 1.07 ms, total: 1.59 ms\n",
            "Wall time: 5.94 ms\n"
          ]
        }
      ]
    },
    {
      "cell_type": "code",
      "source": [
        "xout[:3], yout[:3]"
      ],
      "metadata": {
        "colab": {
          "base_uri": "https://localhost:8080/"
        },
        "id": "MdhUz5UPd8bE",
        "outputId": "a0152858-b60f-4b0a-8824-9ee1f3a3dda8"
      },
      "execution_count": 12,
      "outputs": [
        {
          "output_type": "execute_result",
          "data": {
            "text/plain": [
              "(array([[0.66203766, 0.63575013, 0.52732667, 0.39785942, 0.13267704],\n",
              "        [0.63923872, 0.00719125, 0.18228696, 0.18736066, 0.74268513],\n",
              "        [0.20369649, 0.40658249, 0.37134865, 0.11375123, 0.42054694]]),\n",
              " array([[0.6620376 , 0.6357502 , 0.52732664, 0.3978594 , 0.13267705],\n",
              "        [0.6392387 , 0.00719126, 0.18228693, 0.18736067, 0.74268514],\n",
              "        [0.20369649, 0.40658247, 0.37134862, 0.1137512 , 0.42054692]],\n",
              "       dtype=float32))"
            ]
          },
          "metadata": {},
          "execution_count": 12
        }
      ]
    },
    {
      "cell_type": "markdown",
      "source": [
        "### 2) sigmoid"
      ],
      "metadata": {
        "id": "4Q_oMvaqZx9d"
      }
    },
    {
      "cell_type": "code",
      "source": [
        "sigmoid_kernel = cp.RawKernel(r'''\n",
        "extern \"C\" __global__\n",
        "void sigmoid_forward(const float *x, float* out, int n){\n",
        "  int idx = threadIdx.x + blockIdx.x * blockDim.x;\n",
        "  if (idx<n) {\n",
        "    out[idx] = 1.0f / (1.0f + expf(-x[idx]));\n",
        "  }\n",
        "}\n",
        "''', 'sigmoid_forward')\n",
        "\n",
        "def sigmoid_cuda(x):\n",
        "  x = x.astype(cp.float32)\n",
        "  out = cp.empty_like(x)\n",
        "  n = x.size\n",
        "  threads_per_block = 256\n",
        "  blocks = (n + threads_per_block - 1) // threads_per_block\n",
        "  sigmoid_kernel(\n",
        "      (blocks,),\n",
        "      (threads_per_block,),\n",
        "      (x.ravel(), out.ravel(), n)\n",
        "  )\n",
        "  return cp.reshape(out, x.shape)"
      ],
      "metadata": {
        "id": "aC5ktnAfZ3w9"
      },
      "execution_count": 3,
      "outputs": []
    },
    {
      "cell_type": "code",
      "source": [
        "%%time\n",
        "xout = 1/(1 + np.exp(-x))"
      ],
      "metadata": {
        "colab": {
          "base_uri": "https://localhost:8080/"
        },
        "id": "uad2kuQKfRjz",
        "outputId": "2df13b71-9aa9-42df-ab64-06822372d8ea"
      },
      "execution_count": 20,
      "outputs": [
        {
          "output_type": "stream",
          "name": "stdout",
          "text": [
            "CPU times: user 47.7 ms, sys: 22 ms, total: 69.7 ms\n",
            "Wall time: 69 ms\n"
          ]
        }
      ]
    },
    {
      "cell_type": "code",
      "source": [
        "%%time\n",
        "yout = sigmoid_cuda(y)"
      ],
      "metadata": {
        "colab": {
          "base_uri": "https://localhost:8080/"
        },
        "id": "AK5p_S_UfZgs",
        "outputId": "4c0998f1-3fb7-4b71-e7ee-74a040136d25"
      },
      "execution_count": 21,
      "outputs": [
        {
          "output_type": "stream",
          "name": "stdout",
          "text": [
            "CPU times: user 963 µs, sys: 0 ns, total: 963 µs\n",
            "Wall time: 826 µs\n"
          ]
        }
      ]
    },
    {
      "cell_type": "code",
      "source": [
        "xout[:3], yout[:3]"
      ],
      "metadata": {
        "colab": {
          "base_uri": "https://localhost:8080/"
        },
        "id": "8R0iV49zfux6",
        "outputId": "5eb6bf5e-41b4-427f-fb22-f1d68b668eea"
      },
      "execution_count": 22,
      "outputs": [
        {
          "output_type": "execute_result",
          "data": {
            "text/plain": [
              "(array([[0.68921086, 0.67939837, 0.64254672, 0.60374721, 0.53331653],\n",
              "        [0.68067713, 0.50179784, 0.54595673, 0.54725861, 0.72240865],\n",
              "        [0.55146361, 0.60623419, 0.59627947, 0.5285304 , 0.61024836]]),\n",
              " array([[0.68921083, 0.6793984 , 0.6425467 , 0.6037472 , 0.5333165 ],\n",
              "        [0.6806772 , 0.50179785, 0.54595673, 0.5472586 , 0.72240865],\n",
              "        [0.5514636 , 0.6062342 , 0.59627944, 0.52853036, 0.6102483 ]],\n",
              "       dtype=float32))"
            ]
          },
          "metadata": {},
          "execution_count": 22
        }
      ]
    },
    {
      "cell_type": "markdown",
      "source": [
        "### 3) BCE loss\n"
      ],
      "metadata": {
        "id": "4lJzWaZPHASs"
      }
    },
    {
      "cell_type": "code",
      "source": [
        "bce_kernel = cp.RawKernel(r'''\n",
        "    extern \"C\" __global__\n",
        "    void bce_loss(const float* y, const float* yhat, float* out, int n){\n",
        "      extern __shared__ float sdata[];\n",
        "\n",
        "      int idx = threadIdx.x + blockIdx.x*blockDim.x;\n",
        "      int tid = threadIdx.x;\n",
        "\n",
        "      float eps = 1e-7;\n",
        "      float loss = 0.0f;\n",
        "\n",
        "      if(idx<n){\n",
        "        float p = fminf(fmaxf(yhat[idx], eps), 1.0f - eps);\n",
        "        loss = - (y[idx]*logf(p) + (1.0f-y[idx])*logf(1.0f-p));\n",
        "      }\n",
        "\n",
        "      sdata[tid] = loss;\n",
        "      __syncthreads();\n",
        "\n",
        "      for(int s=blockDim.x / 2 ; s>0; s>>=1){\n",
        "        if(tid < s){\n",
        "          sdata[tid] += sdata[tid+s];\n",
        "        }\n",
        "        __syncthreads();\n",
        "      }\n",
        "\n",
        "      if(tid==0){\n",
        "        out[blockIdx.x] = sdata[0];\n",
        "      }\n",
        "    }\n",
        "  ''', 'bce_loss')\n",
        "\n",
        "def bce_loss_cuda(y, yhat):\n",
        "  y = y.astype(cp.float32)\n",
        "  yhat = yhat.astype(cp.float32)\n",
        "  n = y.size\n",
        "  threads_per_block = 256\n",
        "  blocks = (n + threads_per_block - 1) // threads_per_block\n",
        "  out = cp.empty(blocks, dtype=cp.float32)\n",
        "  bce_kernel(\n",
        "      (blocks, ),\n",
        "      (threads_per_block, ),\n",
        "      (y, yhat, out, n),\n",
        "      shared_mem=threads_per_block * 4\n",
        "  )\n",
        "  return cp.sum(out)/n"
      ],
      "metadata": {
        "id": "_wnD97d0kReH"
      },
      "execution_count": 4,
      "outputs": []
    },
    {
      "cell_type": "code",
      "source": [
        "y_cpu = np.random.rand(100000)\n",
        "y_hat_cpu = 0.7*np.random.rand(100000)\n",
        "\n",
        "y_gpu = cp.array(y_cpu)\n",
        "y_hat_gpu = cp.array(y_hat_cpu)\n",
        "\n",
        "def bce_loss_numpy(y, yhat):\n",
        "    eps=1e-7\n",
        "    yhat = np.clip(yhat, eps, 1 - eps)\n",
        "    loss = - (y * np.log(yhat) + (1 - y) * np.log(1 - yhat))\n",
        "    return np.mean(loss)"
      ],
      "metadata": {
        "id": "qSOHC0t3SGv1"
      },
      "execution_count": 31,
      "outputs": []
    },
    {
      "cell_type": "code",
      "source": [
        "%%time\n",
        "loss_cpu = bce_loss_numpy(y_cpu, y_hat_cpu)"
      ],
      "metadata": {
        "colab": {
          "base_uri": "https://localhost:8080/"
        },
        "id": "KlPIqK-fTRW5",
        "outputId": "d46f5a7f-4c56-4228-cde5-e49a8572c79d"
      },
      "execution_count": 34,
      "outputs": [
        {
          "output_type": "stream",
          "name": "stdout",
          "text": [
            "CPU times: user 2.69 ms, sys: 0 ns, total: 2.69 ms\n",
            "Wall time: 2.09 ms\n"
          ]
        }
      ]
    },
    {
      "cell_type": "code",
      "source": [
        "%%time\n",
        "loss_gpu = bce_loss_cuda(y_gpu, y_hat_gpu)"
      ],
      "metadata": {
        "colab": {
          "base_uri": "https://localhost:8080/"
        },
        "id": "ZtSBAcuqRhH-",
        "outputId": "dedb6f02-d55a-4934-c134-e3b9740e565f"
      },
      "execution_count": 35,
      "outputs": [
        {
          "output_type": "stream",
          "name": "stdout",
          "text": [
            "CPU times: user 618 µs, sys: 0 ns, total: 618 µs\n",
            "Wall time: 626 µs\n"
          ]
        }
      ]
    },
    {
      "cell_type": "code",
      "source": [
        "loss_cpu, loss_gpu"
      ],
      "metadata": {
        "colab": {
          "base_uri": "https://localhost:8080/"
        },
        "id": "u2Ztu0q3T2Cq",
        "outputId": "9c196c10-26c4-4373-8ef3-573ca0e2900f"
      },
      "execution_count": 36,
      "outputs": [
        {
          "output_type": "execute_result",
          "data": {
            "text/plain": [
              "(np.float64(0.9198774290842957), array(0.91987742))"
            ]
          },
          "metadata": {},
          "execution_count": 36
        }
      ]
    },
    {
      "cell_type": "markdown",
      "source": [
        "<h1> Simple Neural Network using cuda functions </h1>"
      ],
      "metadata": {
        "id": "h2nLVA1cRYVf"
      }
    },
    {
      "cell_type": "code",
      "source": [
        "class MLP:\n",
        "\n",
        "  #==============> MLPBLOCK <====================\n",
        "  class MLPBlock:\n",
        "    def __init__(self,\n",
        "                 input_dims:int,\n",
        "                 output_dims:int,\n",
        "                 final: bool,\n",
        "                 lr:float = 0.01\n",
        "                 ) -> None:\n",
        "      self.w = cp.random.rand(output_dims, input_dims)\n",
        "      self.b = cp.random.rand(output_dims, 1)\n",
        "      self.final = final\n",
        "      self.cache = None\n",
        "      self.lr = lr\n",
        "\n",
        "    def forward(self, x):\n",
        "      \"\"\"\n",
        "      inputs:\n",
        "        x: (input_dims, m)\n",
        "      outputs:\n",
        "        a: (output_dims, m)\n",
        "      \"\"\"\n",
        "      z = cp.dot(self.w, x) + self.b\n",
        "      if not self.final:\n",
        "        a = tanh_cuda(z)\n",
        "      else:\n",
        "        a = sigmoid_cuda(z)\n",
        "      self.__update_cache(x, z, a)\n",
        "      return a\n",
        "\n",
        "    def backward(self, da):\n",
        "      \"\"\"\n",
        "      inputs:\n",
        "        da: (output_dims, m)\n",
        "      outputs:\n",
        "        dz: (input_dims, m)\n",
        "        dw: (output_dims, input_dims)\n",
        "        db: (output_dims, 1)\n",
        "      \"\"\"\n",
        "      a = self.cache[\"a\"]\n",
        "      z = self.cache[\"z\"]\n",
        "      x = self.cache[\"x\"]\n",
        "\n",
        "      if not self.final:\n",
        "        dz = (1-a**2)*da\n",
        "      else:\n",
        "        #da is y in this case\n",
        "        dz = a - da\n",
        "\n",
        "      dw = cp.dot(dz, x.T)\n",
        "      db = cp.sum(dz, axis=1, keepdims=True)\n",
        "      dx = cp.dot(self.w.T, dz)\n",
        "\n",
        "      self.w -= dw * self.lr\n",
        "      self.b -= db * self.lr\n",
        "      return dx\n",
        "\n",
        "    def __update_cache(self, x, z, a):\n",
        "      self.cache = {\n",
        "          \"x\": x,\n",
        "          \"z\": z,\n",
        "          \"a\": a\n",
        "      }\n",
        "\n",
        "  #===========> END of MLPBlock <===================\n",
        "\n",
        "  def __init__(self,\n",
        "               input_dim: int = 3,\n",
        "               ):\n",
        "    self.layers = [\n",
        "      self.MLPBlock(input_dim, 64, False),\n",
        "      self.MLPBlock(64, 8, False),\n",
        "      self.MLPBlock(8, 1, True),\n",
        "    ]\n",
        "\n",
        "  def forward(self, x):\n",
        "    for layer in self.layers:\n",
        "      x = layer.forward(x)\n",
        "    return x\n",
        "\n",
        "  def backward(self, da):\n",
        "    for layer in reversed(self.layers):\n",
        "      da = layer.backward(da)"
      ],
      "metadata": {
        "id": "OnYCpK3sqJRs"
      },
      "execution_count": 5,
      "outputs": []
    },
    {
      "cell_type": "code",
      "source": [
        "import matplotlib.pyplot as plt\n",
        "\n",
        "from sklearn.model_selection import train_test_split\n",
        "from sklearn.preprocessing import StandardScaler\n",
        "from sklearn.datasets import load_breast_cancer\n",
        "\n",
        "X, y = load_breast_cancer(return_X_y=True)\n",
        "X = StandardScaler().fit_transform(X)\n",
        "X_train, X_test, y_train, y_test = train_test_split(X, y, test_size=0.2)\n",
        "\n",
        "X_train = cp.asarray(X_train.T)\n",
        "y_train = cp.asarray(y_train.reshape(1, -1))\n",
        "\n",
        "X_test = cp.asarray(X_test.T)\n",
        "y_test = cp.asarray(y_test.reshape(1, -1))\n",
        "X_train.shape, y_train.shape, X_test.shape, y_test.shape"
      ],
      "metadata": {
        "colab": {
          "base_uri": "https://localhost:8080/"
        },
        "id": "q2DS_FbR14NL",
        "outputId": "576c14ac-1a7f-4645-f61d-569e04cfcefd"
      },
      "execution_count": 28,
      "outputs": [
        {
          "output_type": "execute_result",
          "data": {
            "text/plain": [
              "((30, 455), (1, 455), (30, 114), (1, 114))"
            ]
          },
          "metadata": {},
          "execution_count": 28
        }
      ]
    },
    {
      "cell_type": "markdown",
      "source": [
        "## Train"
      ],
      "metadata": {
        "id": "eDg9pqTSQx0D"
      }
    },
    {
      "cell_type": "code",
      "source": [
        "epochs = 20\n",
        "model = MLP(30)"
      ],
      "metadata": {
        "id": "GczuL5hs2hqH"
      },
      "execution_count": 31,
      "outputs": []
    },
    {
      "cell_type": "code",
      "source": [
        "%%time\n",
        "history = {\n",
        "    \"train\": [],\n",
        "    \"val\": []\n",
        "}\n",
        "for epoch in range(epochs):\n",
        "  y_hat = model.forward(X_train)\n",
        "  train_loss = bce_loss_cuda(y_train, y_hat)/y_train.shape[1]\n",
        "  model.backward(y_train)\n",
        "\n",
        "  val_loss = bce_loss_cuda(y_test, model.forward(X_test))/y_test.shape[1]\n",
        "  print(f\"Epoch {epoch+1:2d}/{epochs}   train_loss: {train_loss:.5f}   val_loss:{val_loss:.5f}\")\n",
        "  history[\"train\"].append(float(train_loss))\n",
        "  history[\"val\"].append(float(val_loss))"
      ],
      "metadata": {
        "colab": {
          "base_uri": "https://localhost:8080/"
        },
        "id": "ip7AKeU42igH",
        "outputId": "ac6f9efe-aa10-49c7-c3a1-f8c77da7a8e8"
      },
      "execution_count": 32,
      "outputs": [
        {
          "output_type": "stream",
          "name": "stdout",
          "text": [
            "Epoch  1/20   train_loss: 0.00718   val_loss:0.01278\n",
            "Epoch  2/20   train_loss: 0.00458   val_loss:0.01108\n",
            "Epoch  3/20   train_loss: 0.00386   val_loss:0.01107\n",
            "Epoch  4/20   train_loss: 0.00356   val_loss:0.01017\n",
            "Epoch  5/20   train_loss: 0.00285   val_loss:0.00813\n",
            "Epoch  6/20   train_loss: 0.00214   val_loss:0.00576\n",
            "Epoch  7/20   train_loss: 0.00139   val_loss:0.00414\n",
            "Epoch  8/20   train_loss: 0.00087   val_loss:0.00390\n",
            "Epoch  9/20   train_loss: 0.00083   val_loss:0.00367\n",
            "Epoch 10/20   train_loss: 0.00080   val_loss:0.00346\n",
            "Epoch 11/20   train_loss: 0.00077   val_loss:0.00325\n",
            "Epoch 12/20   train_loss: 0.00074   val_loss:0.00306\n",
            "Epoch 13/20   train_loss: 0.00072   val_loss:0.00288\n",
            "Epoch 14/20   train_loss: 0.00069   val_loss:0.00275\n",
            "Epoch 15/20   train_loss: 0.00067   val_loss:0.00265\n",
            "Epoch 16/20   train_loss: 0.00066   val_loss:0.00257\n",
            "Epoch 17/20   train_loss: 0.00065   val_loss:0.00252\n",
            "Epoch 18/20   train_loss: 0.00065   val_loss:0.00248\n",
            "Epoch 19/20   train_loss: 0.00064   val_loss:0.00247\n",
            "Epoch 20/20   train_loss: 0.00064   val_loss:0.00243\n",
            "CPU times: user 57.2 ms, sys: 0 ns, total: 57.2 ms\n",
            "Wall time: 56.8 ms\n"
          ]
        }
      ]
    },
    {
      "cell_type": "code",
      "source": [
        "plt.plot(history[\"train\"], label=\"train\")\n",
        "plt.plot(history[\"val\"], label=\"val\")\n",
        "plt.legend()\n",
        "plt.show()"
      ],
      "metadata": {
        "colab": {
          "base_uri": "https://localhost:8080/",
          "height": 430
        },
        "id": "eLPEDcu02rM4",
        "outputId": "67b565e7-219c-4a95-874b-f2d050271019"
      },
      "execution_count": 33,
      "outputs": [
        {
          "output_type": "display_data",
          "data": {
            "text/plain": [
              "<Figure size 640x480 with 1 Axes>"
            ],
            "image/png": "[encoded data removed]"
          },
          "metadata": {}
        }
      ]
    },
    {
      "cell_type": "code",
      "source": [],
      "metadata": {
        "id": "RmF50PJZ3zVQ"
      },
      "execution_count": null,
      "outputs": []
    }
  ]
}