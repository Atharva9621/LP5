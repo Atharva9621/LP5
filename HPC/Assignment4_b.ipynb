{
  "nbformat": 4,
  "nbformat_minor": 0,
  "metadata": {
    "colab": {
      "provenance": [],
      "gpuType": "T4"
    },
    "kernelspec": {
      "name": "python3",
      "display_name": "Python 3"
    },
    "language_info": {
      "name": "python"
    },
    "accelerator": "GPU"
  },
  "cells": [
    {
      "cell_type": "markdown",
      "source": [
        "# CUDA Kernels\n",
        "\n",
        "We will use CuPy to execute CudaC Kernel to `add vectors` from the Python runtime"
      ],
      "metadata": {
        "id": "q5zqcZkADaRp"
      }
    },
    {
      "cell_type": "code",
      "source": [
        "#enable T4 gpu in Runtime > Change Runtime Type\n",
        "!nvidia-smi"
      ],
      "metadata": {
        "colab": {
          "base_uri": "https://localhost:8080/"
        },
        "id": "uUFEptbNDsH9",
        "outputId": "7968a01b-2124-4b43-ce6f-a9986aecb49e"
      },
      "execution_count": 2,
      "outputs": [
        {
          "output_type": "stream",
          "name": "stdout",
          "text": [
            "Fri May  2 12:53:19 2025       \n",
            "+-----------------------------------------------------------------------------------------+\n",
            "| NVIDIA-SMI 550.54.15              Driver Version: 550.54.15      CUDA Version: 12.4     |\n",
            "|-----------------------------------------+------------------------+----------------------+\n",
            "| GPU  Name                 Persistence-M | Bus-Id          Disp.A | Volatile Uncorr. ECC |\n",
            "| Fan  Temp   Perf          Pwr:Usage/Cap |           Memory-Usage | GPU-Util  Compute M. |\n",
            "|                                         |                        |               MIG M. |\n",
            "|=========================================+========================+======================|\n",
            "|   0  Tesla T4                       Off |   00000000:00:04.0 Off |                    0 |\n",
            "| N/A   40C    P8              9W /   70W |       0MiB /  15360MiB |      0%      Default |\n",
            "|                                         |                        |                  N/A |\n",
            "+-----------------------------------------+------------------------+----------------------+\n",
            "                                                                                         \n",
            "+-----------------------------------------------------------------------------------------+\n",
            "| Processes:                                                                              |\n",
            "|  GPU   GI   CI        PID   Type   Process name                              GPU Memory |\n",
            "|        ID   ID                                                               Usage      |\n",
            "|=========================================================================================|\n",
            "|  No running processes found                                                             |\n",
            "+-----------------------------------------------------------------------------------------+\n"
          ]
        }
      ]
    },
    {
      "cell_type": "markdown",
      "source": [
        "# CUDA Kernel"
      ],
      "metadata": {
        "id": "YC0fXIjVDtQJ"
      }
    },
    {
      "cell_type": "code",
      "source": [
        "kernel_code = r'''\n",
        "extern \"C\" __global__\n",
        "void matmul(const float* A, const float* B, float* C, int M, int K, int N) {\n",
        "    int row = blockIdx.y * blockDim.y + threadIdx.y;\n",
        "    int col = blockIdx.x * blockDim.x + threadIdx.x;\n",
        "\n",
        "    if (row < M && col < N) {\n",
        "        float sum = 0.0f;\n",
        "        for (int i = 0; i < K; ++i) {\n",
        "            sum += A[row * K + i] * B[i * N + col];\n",
        "        }\n",
        "        C[row * N + col] = sum;\n",
        "    }\n",
        "}\n",
        "'''"
      ],
      "metadata": {
        "id": "cw19W1n2DyVP"
      },
      "execution_count": 3,
      "outputs": []
    },
    {
      "cell_type": "markdown",
      "source": [
        "# Main"
      ],
      "metadata": {
        "id": "4IkDMgqED29d"
      }
    },
    {
      "cell_type": "code",
      "source": [
        "import cupy as cp\n",
        "\n",
        "module = cp.RawModule(code=kernel_code)\n",
        "matmul_kernel = module.get_function('matmul')"
      ],
      "metadata": {
        "id": "6_-LumDtD3_f"
      },
      "execution_count": 4,
      "outputs": []
    },
    {
      "cell_type": "code",
      "source": [
        "#mat dims\n",
        "M, K, N = 256, 512, 128\n",
        "\n",
        "#note (n1, n2).(n2, n3)  --->  (n1, n3)\n",
        "A = cp.random.rand(M, K, dtype=cp.float32)\n",
        "B = cp.random.rand(K, N, dtype=cp.float32)\n",
        "C = cp.empty((M, N), dtype=cp.float32)"
      ],
      "metadata": {
        "id": "DdbDG-16D-im"
      },
      "execution_count": 5,
      "outputs": []
    },
    {
      "cell_type": "code",
      "source": [
        "threads_per_block = (16, 16)\n",
        "blocks_per_grid_x = (N + threads_per_block[0] - 1) // threads_per_block[0]\n",
        "blocks_per_grid_y = (M + threads_per_block[1] - 1) // threads_per_block[1]"
      ],
      "metadata": {
        "id": "TLiR70ENEO-d"
      },
      "execution_count": 6,
      "outputs": []
    },
    {
      "cell_type": "code",
      "source": [
        "matmul_kernel(\n",
        "    (blocks_per_grid_x, blocks_per_grid_y),\n",
        "    threads_per_block,\n",
        "    (A, B, C, M, K, N)\n",
        ")"
      ],
      "metadata": {
        "id": "GUcVio3SEQaI"
      },
      "execution_count": 7,
      "outputs": []
    },
    {
      "cell_type": "code",
      "source": [
        "C_ref = A @ B\n",
        "assert cp.allclose(C, C_ref, atol=1e-3)"
      ],
      "metadata": {
        "id": "zxHbFR5iESPn"
      },
      "execution_count": 8,
      "outputs": []
    },
    {
      "cell_type": "code",
      "source": [
        "print(C)\n",
        "print(C_ref)"
      ],
      "metadata": {
        "colab": {
          "base_uri": "https://localhost:8080/"
        },
        "id": "ISRdUkWGEUEt",
        "outputId": "32dbcaa3-af9b-4092-a726-1916264dcc8c"
      },
      "execution_count": 11,
      "outputs": [
        {
          "output_type": "stream",
          "name": "stdout",
          "text": [
            "[[129.7565   129.64478  123.23375  ... 116.80481  124.080055 125.91232 ]\n",
            " [127.11189  129.48016  128.48605  ... 119.160095 127.22114  128.10782 ]\n",
            " [127.34656  132.18071  126.87031  ... 118.25388  124.63174  129.82968 ]\n",
            " ...\n",
            " [125.09992  124.69797  119.99035  ... 116.124664 126.137184 122.30461 ]\n",
            " [120.753235 127.84794  120.43405  ... 117.633224 120.90432  123.22717 ]\n",
            " [132.0097   136.14296  132.2939   ... 125.32579  126.92527  135.43048 ]]\n",
            "[[129.75645  129.64482  123.23378  ... 116.80486  124.08003  125.912346]\n",
            " [127.11194  129.48009  128.48602  ... 119.160126 127.2211   128.10776 ]\n",
            " [127.34652  132.18071  126.870316 ... 118.253876 124.631714 129.82968 ]\n",
            " ...\n",
            " [125.09988  124.69794  119.9903   ... 116.124664 126.13722  122.30462 ]\n",
            " [120.75323  127.847946 120.43403  ... 117.63323  120.90431  123.227104]\n",
            " [132.00969  136.14297  132.29388  ... 125.32575  126.92525  135.43054 ]]\n"
          ]
        }
      ]
    }
  ]
}